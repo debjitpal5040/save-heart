{
 "cells": [
  {
   "cell_type": "markdown",
   "metadata": {},
   "source": [
    "# Save Heart\n"
   ]
  },
  {
   "cell_type": "markdown",
   "metadata": {},
   "source": [
    "## Importing the necessary libraries and packages\n"
   ]
  },
  {
   "cell_type": "code",
   "execution_count": 1,
   "metadata": {},
   "outputs": [],
   "source": [
    "# loading dataset\n",
    "# visualisation\n",
    "import matplotlib.pyplot as plt\n",
    "import numpy as np\n",
    "import pandas as pd\n",
    "import seaborn as sns\n",
    "\n",
    "# model persistence\n",
    "from joblib import dump\n",
    "from sklearn.ensemble import RandomForestClassifier\n",
    "from sklearn.linear_model import LogisticRegression\n",
    "\n",
    "# accuracy metrics\n",
    "from sklearn.metrics import (\n",
    "    RocCurveDisplay,\n",
    "    accuracy_score,\n",
    "    auc,\n",
    "    classification_report,\n",
    "    confusion_matrix,\n",
    "    roc_curve,\n",
    ")\n",
    "\n",
    "# search for best hyperparameters\n",
    "# data splitting\n",
    "from sklearn.model_selection import GridSearchCV, train_test_split\n",
    "from sklearn.naive_bayes import GaussianNB\n",
    "from sklearn.neighbors import KNeighborsClassifier\n",
    "from sklearn.svm import SVC\n",
    "\n",
    "# classification algorithms\n",
    "from sklearn.tree import DecisionTreeClassifier"
   ]
  },
  {
   "cell_type": "markdown",
   "metadata": {},
   "source": [
    "## Importing the csv file as a dataFrame\n"
   ]
  },
  {
   "cell_type": "code",
   "execution_count": 2,
   "metadata": {},
   "outputs": [
    {
     "data": {
      "text/html": [
       "<div>\n",
       "<style scoped>\n",
       "    .dataframe tbody tr th:only-of-type {\n",
       "        vertical-align: middle;\n",
       "    }\n",
       "\n",
       "    .dataframe tbody tr th {\n",
       "        vertical-align: top;\n",
       "    }\n",
       "\n",
       "    .dataframe thead th {\n",
       "        text-align: right;\n",
       "    }\n",
       "</style>\n",
       "<table border=\"1\" class=\"dataframe\">\n",
       "  <thead>\n",
       "    <tr style=\"text-align: right;\">\n",
       "      <th></th>\n",
       "      <th>age</th>\n",
       "      <th>sex</th>\n",
       "      <th>cp</th>\n",
       "      <th>trestbps</th>\n",
       "      <th>chol</th>\n",
       "      <th>fbs</th>\n",
       "      <th>thalach</th>\n",
       "      <th>exang</th>\n",
       "      <th>thal</th>\n",
       "      <th>target</th>\n",
       "    </tr>\n",
       "  </thead>\n",
       "  <tbody>\n",
       "    <tr>\n",
       "      <th>0</th>\n",
       "      <td>63</td>\n",
       "      <td>Male</td>\n",
       "      <td>Severe pain</td>\n",
       "      <td>145</td>\n",
       "      <td>233</td>\n",
       "      <td>&gt;120</td>\n",
       "      <td>150</td>\n",
       "      <td>No</td>\n",
       "      <td>Normal</td>\n",
       "      <td>1</td>\n",
       "    </tr>\n",
       "    <tr>\n",
       "      <th>1</th>\n",
       "      <td>37</td>\n",
       "      <td>Male</td>\n",
       "      <td>Moderate pain</td>\n",
       "      <td>130</td>\n",
       "      <td>250</td>\n",
       "      <td>≤120</td>\n",
       "      <td>187</td>\n",
       "      <td>No</td>\n",
       "      <td>Fixed defect</td>\n",
       "      <td>1</td>\n",
       "    </tr>\n",
       "    <tr>\n",
       "      <th>2</th>\n",
       "      <td>41</td>\n",
       "      <td>Female</td>\n",
       "      <td>Light pain</td>\n",
       "      <td>130</td>\n",
       "      <td>204</td>\n",
       "      <td>≤120</td>\n",
       "      <td>172</td>\n",
       "      <td>No</td>\n",
       "      <td>Fixed defect</td>\n",
       "      <td>1</td>\n",
       "    </tr>\n",
       "    <tr>\n",
       "      <th>3</th>\n",
       "      <td>56</td>\n",
       "      <td>Male</td>\n",
       "      <td>Light pain</td>\n",
       "      <td>120</td>\n",
       "      <td>236</td>\n",
       "      <td>≤120</td>\n",
       "      <td>178</td>\n",
       "      <td>No</td>\n",
       "      <td>Fixed defect</td>\n",
       "      <td>1</td>\n",
       "    </tr>\n",
       "    <tr>\n",
       "      <th>4</th>\n",
       "      <td>57</td>\n",
       "      <td>Female</td>\n",
       "      <td>No pain</td>\n",
       "      <td>120</td>\n",
       "      <td>354</td>\n",
       "      <td>≤120</td>\n",
       "      <td>163</td>\n",
       "      <td>Yes</td>\n",
       "      <td>Fixed defect</td>\n",
       "      <td>1</td>\n",
       "    </tr>\n",
       "  </tbody>\n",
       "</table>\n",
       "</div>"
      ],
      "text/plain": [
       "   age     sex             cp  trestbps  chol   fbs  thalach exang  \\\n",
       "0   63    Male    Severe pain       145   233  >120      150    No   \n",
       "1   37    Male  Moderate pain       130   250  ≤120      187    No   \n",
       "2   41  Female     Light pain       130   204  ≤120      172    No   \n",
       "3   56    Male     Light pain       120   236  ≤120      178    No   \n",
       "4   57  Female        No pain       120   354  ≤120      163   Yes   \n",
       "\n",
       "           thal  target  \n",
       "0        Normal       1  \n",
       "1  Fixed defect       1  \n",
       "2  Fixed defect       1  \n",
       "3  Fixed defect       1  \n",
       "4  Fixed defect       1  "
      ]
     },
     "execution_count": 2,
     "metadata": {},
     "output_type": "execute_result"
    }
   ],
   "source": [
    "data = pd.read_csv(\"../Dataset/save-heart.csv\")\n",
    "data.head()"
   ]
  },
  {
   "cell_type": "markdown",
   "metadata": {},
   "source": [
    "## Exploratory Data Analysis\n"
   ]
  },
  {
   "cell_type": "markdown",
   "metadata": {},
   "source": [
    "Formal information about the dataset\n"
   ]
  },
  {
   "cell_type": "code",
   "execution_count": 3,
   "metadata": {},
   "outputs": [
    {
     "name": "stdout",
     "output_type": "stream",
     "text": [
      "<class 'pandas.core.frame.DataFrame'>\n",
      "RangeIndex: 301 entries, 0 to 300\n",
      "Data columns (total 10 columns):\n",
      " #   Column    Non-Null Count  Dtype \n",
      "---  ------    --------------  ----- \n",
      " 0   age       301 non-null    int64 \n",
      " 1   sex       301 non-null    object\n",
      " 2   cp        301 non-null    object\n",
      " 3   trestbps  301 non-null    int64 \n",
      " 4   chol      301 non-null    int64 \n",
      " 5   fbs       301 non-null    object\n",
      " 6   thalach   301 non-null    int64 \n",
      " 7   exang     301 non-null    object\n",
      " 8   thal      301 non-null    object\n",
      " 9   target    301 non-null    int64 \n",
      "dtypes: int64(5), object(5)\n",
      "memory usage: 23.6+ KB\n"
     ]
    }
   ],
   "source": [
    "data.info()"
   ]
  },
  {
   "cell_type": "markdown",
   "metadata": {},
   "source": [
    "Description of the dataset\n"
   ]
  },
  {
   "cell_type": "code",
   "execution_count": 4,
   "metadata": {},
   "outputs": [
    {
     "data": {
      "text/html": [
       "<div>\n",
       "<style scoped>\n",
       "    .dataframe tbody tr th:only-of-type {\n",
       "        vertical-align: middle;\n",
       "    }\n",
       "\n",
       "    .dataframe tbody tr th {\n",
       "        vertical-align: top;\n",
       "    }\n",
       "\n",
       "    .dataframe thead th {\n",
       "        text-align: right;\n",
       "    }\n",
       "</style>\n",
       "<table border=\"1\" class=\"dataframe\">\n",
       "  <thead>\n",
       "    <tr style=\"text-align: right;\">\n",
       "      <th></th>\n",
       "      <th>age</th>\n",
       "      <th>trestbps</th>\n",
       "      <th>chol</th>\n",
       "      <th>thalach</th>\n",
       "      <th>target</th>\n",
       "    </tr>\n",
       "  </thead>\n",
       "  <tbody>\n",
       "    <tr>\n",
       "      <th>count</th>\n",
       "      <td>301.000000</td>\n",
       "      <td>301.000000</td>\n",
       "      <td>301.000000</td>\n",
       "      <td>301.000000</td>\n",
       "      <td>301.000000</td>\n",
       "    </tr>\n",
       "    <tr>\n",
       "      <th>mean</th>\n",
       "      <td>54.299003</td>\n",
       "      <td>131.607973</td>\n",
       "      <td>246.528239</td>\n",
       "      <td>149.873754</td>\n",
       "      <td>0.541528</td>\n",
       "    </tr>\n",
       "    <tr>\n",
       "      <th>std</th>\n",
       "      <td>9.025721</td>\n",
       "      <td>17.588608</td>\n",
       "      <td>51.895312</td>\n",
       "      <td>22.810466</td>\n",
       "      <td>0.499102</td>\n",
       "    </tr>\n",
       "    <tr>\n",
       "      <th>min</th>\n",
       "      <td>29.000000</td>\n",
       "      <td>94.000000</td>\n",
       "      <td>126.000000</td>\n",
       "      <td>71.000000</td>\n",
       "      <td>0.000000</td>\n",
       "    </tr>\n",
       "    <tr>\n",
       "      <th>25%</th>\n",
       "      <td>47.000000</td>\n",
       "      <td>120.000000</td>\n",
       "      <td>211.000000</td>\n",
       "      <td>136.000000</td>\n",
       "      <td>0.000000</td>\n",
       "    </tr>\n",
       "    <tr>\n",
       "      <th>50%</th>\n",
       "      <td>55.000000</td>\n",
       "      <td>130.000000</td>\n",
       "      <td>241.000000</td>\n",
       "      <td>153.000000</td>\n",
       "      <td>1.000000</td>\n",
       "    </tr>\n",
       "    <tr>\n",
       "      <th>75%</th>\n",
       "      <td>61.000000</td>\n",
       "      <td>140.000000</td>\n",
       "      <td>275.000000</td>\n",
       "      <td>166.000000</td>\n",
       "      <td>1.000000</td>\n",
       "    </tr>\n",
       "    <tr>\n",
       "      <th>max</th>\n",
       "      <td>77.000000</td>\n",
       "      <td>200.000000</td>\n",
       "      <td>564.000000</td>\n",
       "      <td>202.000000</td>\n",
       "      <td>1.000000</td>\n",
       "    </tr>\n",
       "  </tbody>\n",
       "</table>\n",
       "</div>"
      ],
      "text/plain": [
       "              age    trestbps        chol     thalach      target\n",
       "count  301.000000  301.000000  301.000000  301.000000  301.000000\n",
       "mean    54.299003  131.607973  246.528239  149.873754    0.541528\n",
       "std      9.025721   17.588608   51.895312   22.810466    0.499102\n",
       "min     29.000000   94.000000  126.000000   71.000000    0.000000\n",
       "25%     47.000000  120.000000  211.000000  136.000000    0.000000\n",
       "50%     55.000000  130.000000  241.000000  153.000000    1.000000\n",
       "75%     61.000000  140.000000  275.000000  166.000000    1.000000\n",
       "max     77.000000  200.000000  564.000000  202.000000    1.000000"
      ]
     },
     "execution_count": 4,
     "metadata": {},
     "output_type": "execute_result"
    }
   ],
   "source": [
    "data.describe()"
   ]
  },
  {
   "cell_type": "markdown",
   "metadata": {},
   "source": [
    "Checking if any null value exists\n"
   ]
  },
  {
   "cell_type": "code",
   "execution_count": 5,
   "metadata": {},
   "outputs": [
    {
     "data": {
      "text/plain": [
       "age         0\n",
       "sex         0\n",
       "cp          0\n",
       "trestbps    0\n",
       "chol        0\n",
       "fbs         0\n",
       "thalach     0\n",
       "exang       0\n",
       "thal        0\n",
       "target      0\n",
       "dtype: int64"
      ]
     },
     "execution_count": 5,
     "metadata": {},
     "output_type": "execute_result"
    }
   ],
   "source": [
    "data.isnull().sum()"
   ]
  },
  {
   "cell_type": "markdown",
   "metadata": {},
   "source": [
    "Columns of the dataset\n"
   ]
  },
  {
   "cell_type": "code",
   "execution_count": 6,
   "metadata": {},
   "outputs": [
    {
     "data": {
      "text/plain": [
       "Index(['age', 'sex', 'cp', 'trestbps', 'chol', 'fbs', 'thalach', 'exang',\n",
       "       'thal', 'target'],\n",
       "      dtype='object')"
      ]
     },
     "execution_count": 6,
     "metadata": {},
     "output_type": "execute_result"
    }
   ],
   "source": [
    "data.columns"
   ]
  },
  {
   "cell_type": "markdown",
   "metadata": {},
   "source": [
    "Correlations between the variables\n"
   ]
  },
  {
   "cell_type": "code",
   "execution_count": 7,
   "metadata": {},
   "outputs": [
    {
     "data": {
      "text/html": [
       "<div>\n",
       "<style scoped>\n",
       "    .dataframe tbody tr th:only-of-type {\n",
       "        vertical-align: middle;\n",
       "    }\n",
       "\n",
       "    .dataframe tbody tr th {\n",
       "        vertical-align: top;\n",
       "    }\n",
       "\n",
       "    .dataframe thead th {\n",
       "        text-align: right;\n",
       "    }\n",
       "</style>\n",
       "<table border=\"1\" class=\"dataframe\">\n",
       "  <thead>\n",
       "    <tr style=\"text-align: right;\">\n",
       "      <th></th>\n",
       "      <th>age</th>\n",
       "      <th>trestbps</th>\n",
       "      <th>chol</th>\n",
       "      <th>thalach</th>\n",
       "      <th>target</th>\n",
       "    </tr>\n",
       "  </thead>\n",
       "  <tbody>\n",
       "    <tr>\n",
       "      <th>age</th>\n",
       "      <td>1.000000</td>\n",
       "      <td>0.278242</td>\n",
       "      <td>0.223505</td>\n",
       "      <td>-0.394267</td>\n",
       "      <td>-0.235113</td>\n",
       "    </tr>\n",
       "    <tr>\n",
       "      <th>trestbps</th>\n",
       "      <td>0.278242</td>\n",
       "      <td>1.000000</td>\n",
       "      <td>0.124597</td>\n",
       "      <td>-0.045761</td>\n",
       "      <td>-0.146228</td>\n",
       "    </tr>\n",
       "    <tr>\n",
       "      <th>chol</th>\n",
       "      <td>0.223505</td>\n",
       "      <td>0.124597</td>\n",
       "      <td>1.000000</td>\n",
       "      <td>-0.017706</td>\n",
       "      <td>-0.080962</td>\n",
       "    </tr>\n",
       "    <tr>\n",
       "      <th>thalach</th>\n",
       "      <td>-0.394267</td>\n",
       "      <td>-0.045761</td>\n",
       "      <td>-0.017706</td>\n",
       "      <td>1.000000</td>\n",
       "      <td>0.435254</td>\n",
       "    </tr>\n",
       "    <tr>\n",
       "      <th>target</th>\n",
       "      <td>-0.235113</td>\n",
       "      <td>-0.146228</td>\n",
       "      <td>-0.080962</td>\n",
       "      <td>0.435254</td>\n",
       "      <td>1.000000</td>\n",
       "    </tr>\n",
       "  </tbody>\n",
       "</table>\n",
       "</div>"
      ],
      "text/plain": [
       "               age  trestbps      chol   thalach    target\n",
       "age       1.000000  0.278242  0.223505 -0.394267 -0.235113\n",
       "trestbps  0.278242  1.000000  0.124597 -0.045761 -0.146228\n",
       "chol      0.223505  0.124597  1.000000 -0.017706 -0.080962\n",
       "thalach  -0.394267 -0.045761 -0.017706  1.000000  0.435254\n",
       "target   -0.235113 -0.146228 -0.080962  0.435254  1.000000"
      ]
     },
     "execution_count": 7,
     "metadata": {},
     "output_type": "execute_result"
    }
   ],
   "source": [
    "data.corr(numeric_only=True)"
   ]
  },
  {
   "cell_type": "markdown",
   "metadata": {},
   "source": [
    "## Data Visualization\n"
   ]
  },
  {
   "cell_type": "code",
   "execution_count": 8,
   "metadata": {},
   "outputs": [
    {
     "data": {
      "image/png": "[encoded data removed]",
      "text/plain": [
       "<Figure size 900x900 with 1 Axes>"
      ]
     },
     "metadata": {},
     "output_type": "display_data"
    }
   ],
   "source": [
    "plt.figure(figsize=(6, 6), dpi=150)\n",
    "plt.style.use(\"dark_background\")\n",
    "plt.title(\"Histogram of Ages\")\n",
    "sns.histplot(data[\"age\"])\n",
    "plt.savefig(\"../media/age_histogram.png\", bbox_inches=\"tight\")"
   ]
  },
  {
   "cell_type": "code",
   "execution_count": 9,
   "metadata": {},
   "outputs": [
    {
     "data": {
      "image/png": "[encoded data removed]",
      "text/plain": [
       "<Figure size 900x900 with 1 Axes>"
      ]
     },
     "metadata": {},
     "output_type": "display_data"
    }
   ],
   "source": [
    "plt.figure(figsize=(6, 6), dpi=150)\n",
    "plt.style.use(\"dark_background\")\n",
    "plt.title(\"Countplot of Sex\")\n",
    "sns.countplot(x=\"sex\", data=data)\n",
    "plt.savefig(\"../media/sex_countplot.png\", bbox_inches=\"tight\")"
   ]
  },
  {
   "cell_type": "code",
   "execution_count": 10,
   "metadata": {},
   "outputs": [
    {
     "data": {
      "image/png": "[encoded data removed]",
      "text/plain": [
       "<Figure size 900x900 with 1 Axes>"
      ]
     },
     "metadata": {},
     "output_type": "display_data"
    }
   ],
   "source": [
    "plt.figure(figsize=(6, 6), dpi=150)\n",
    "plt.style.use(\"dark_background\")\n",
    "plt.title(\"Countplot of Target\")\n",
    "sns.countplot(x=\"target\", data=data)\n",
    "plt.savefig(\"../media/target_countplot.png\", bbox_inches=\"tight\")"
   ]
  },
  {
   "cell_type": "markdown",
   "metadata": {},
   "source": [
    "## Encoding Categorical Data\n"
   ]
  },
  {
   "cell_type": "code",
   "execution_count": 11,
   "metadata": {},
   "outputs": [
    {
     "name": "stdout",
     "output_type": "stream",
     "text": [
      "['Male' 'Female']\n",
      "['Severe pain' 'Moderate pain' 'Light pain' 'No pain']\n",
      "['>120' '≤120']\n",
      "['No' 'Yes']\n",
      "['Normal' 'Fixed defect' 'Reversible defect']\n"
     ]
    }
   ],
   "source": [
    "print(data[\"sex\"].unique())\n",
    "print(data[\"cp\"].unique())\n",
    "print(data[\"fbs\"].unique())\n",
    "print(data[\"exang\"].unique())\n",
    "print(data[\"thal\"].unique())"
   ]
  },
  {
   "cell_type": "code",
   "execution_count": 12,
   "metadata": {},
   "outputs": [],
   "source": [
    "data[\"sex\"] = data[\"sex\"].replace({\"Male\": 1, \"Female\": 0})\n",
    "data[\"cp\"] = data[\"cp\"].replace(\n",
    "    {\"No pain\": 0, \"Light pain\": 1, \"Moderate pain\": 2, \"Severe pain\": 3}\n",
    ")\n",
    "data[\"fbs\"] = data[\"fbs\"].replace({\"≤120\": 0, \">120\": 1})\n",
    "data[\"exang\"] = data[\"exang\"].replace({\"No\": 0, \"Yes\": 1})\n",
    "data[\"thal\"] = data[\"thal\"].replace(\n",
    "    {\"Normal\": 0, \"Fixed defect\": 1, \"Reversible defect\": 2}\n",
    ")"
   ]
  },
  {
   "cell_type": "code",
   "execution_count": 13,
   "metadata": {},
   "outputs": [
    {
     "data": {
      "text/html": [
       "<div>\n",
       "<style scoped>\n",
       "    .dataframe tbody tr th:only-of-type {\n",
       "        vertical-align: middle;\n",
       "    }\n",
       "\n",
       "    .dataframe tbody tr th {\n",
       "        vertical-align: top;\n",
       "    }\n",
       "\n",
       "    .dataframe thead th {\n",
       "        text-align: right;\n",
       "    }\n",
       "</style>\n",
       "<table border=\"1\" class=\"dataframe\">\n",
       "  <thead>\n",
       "    <tr style=\"text-align: right;\">\n",
       "      <th></th>\n",
       "      <th>age</th>\n",
       "      <th>sex</th>\n",
       "      <th>cp</th>\n",
       "      <th>trestbps</th>\n",
       "      <th>chol</th>\n",
       "      <th>fbs</th>\n",
       "      <th>thalach</th>\n",
       "      <th>exang</th>\n",
       "      <th>thal</th>\n",
       "      <th>target</th>\n",
       "    </tr>\n",
       "  </thead>\n",
       "  <tbody>\n",
       "    <tr>\n",
       "      <th>0</th>\n",
       "      <td>63</td>\n",
       "      <td>1</td>\n",
       "      <td>3</td>\n",
       "      <td>145</td>\n",
       "      <td>233</td>\n",
       "      <td>1</td>\n",
       "      <td>150</td>\n",
       "      <td>0</td>\n",
       "      <td>0</td>\n",
       "      <td>1</td>\n",
       "    </tr>\n",
       "    <tr>\n",
       "      <th>1</th>\n",
       "      <td>37</td>\n",
       "      <td>1</td>\n",
       "      <td>2</td>\n",
       "      <td>130</td>\n",
       "      <td>250</td>\n",
       "      <td>0</td>\n",
       "      <td>187</td>\n",
       "      <td>0</td>\n",
       "      <td>1</td>\n",
       "      <td>1</td>\n",
       "    </tr>\n",
       "    <tr>\n",
       "      <th>2</th>\n",
       "      <td>41</td>\n",
       "      <td>0</td>\n",
       "      <td>1</td>\n",
       "      <td>130</td>\n",
       "      <td>204</td>\n",
       "      <td>0</td>\n",
       "      <td>172</td>\n",
       "      <td>0</td>\n",
       "      <td>1</td>\n",
       "      <td>1</td>\n",
       "    </tr>\n",
       "    <tr>\n",
       "      <th>3</th>\n",
       "      <td>56</td>\n",
       "      <td>1</td>\n",
       "      <td>1</td>\n",
       "      <td>120</td>\n",
       "      <td>236</td>\n",
       "      <td>0</td>\n",
       "      <td>178</td>\n",
       "      <td>0</td>\n",
       "      <td>1</td>\n",
       "      <td>1</td>\n",
       "    </tr>\n",
       "    <tr>\n",
       "      <th>4</th>\n",
       "      <td>57</td>\n",
       "      <td>0</td>\n",
       "      <td>0</td>\n",
       "      <td>120</td>\n",
       "      <td>354</td>\n",
       "      <td>0</td>\n",
       "      <td>163</td>\n",
       "      <td>1</td>\n",
       "      <td>1</td>\n",
       "      <td>1</td>\n",
       "    </tr>\n",
       "  </tbody>\n",
       "</table>\n",
       "</div>"
      ],
      "text/plain": [
       "   age  sex  cp  trestbps  chol  fbs  thalach  exang  thal  target\n",
       "0   63    1   3       145   233    1      150      0     0       1\n",
       "1   37    1   2       130   250    0      187      0     1       1\n",
       "2   41    0   1       130   204    0      172      0     1       1\n",
       "3   56    1   1       120   236    0      178      0     1       1\n",
       "4   57    0   0       120   354    0      163      1     1       1"
      ]
     },
     "execution_count": 13,
     "metadata": {},
     "output_type": "execute_result"
    }
   ],
   "source": [
    "data.head()"
   ]
  },
  {
   "cell_type": "markdown",
   "metadata": {},
   "source": [
    "## Now taking 2 parts from the dataset\n",
    "\n",
    "### X: which contains all columns except the <b>target</b> column<br>Y: which contains only the <b>target</b> column\n"
   ]
  },
  {
   "cell_type": "code",
   "execution_count": 14,
   "metadata": {},
   "outputs": [
    {
     "name": "stdout",
     "output_type": "stream",
     "text": [
      "//Independent features//\n",
      "   age  sex  cp  trestbps  chol  fbs  thalach  exang  thal\n",
      "0   63    1   3       145   233    1      150      0     0\n",
      "1   37    1   2       130   250    0      187      0     1\n",
      "2   41    0   1       130   204    0      172      0     1\n",
      "3   56    1   1       120   236    0      178      0     1\n",
      "4   57    0   0       120   354    0      163      1     1\n",
      "\n",
      "\n",
      "//Dependent feature//\n",
      "0    1\n",
      "1    1\n",
      "2    1\n",
      "3    1\n",
      "4    1\n",
      "Name: target, dtype: int64\n"
     ]
    }
   ],
   "source": [
    "X = data.iloc[:, :-1]\n",
    "y = data.iloc[:, -1]\n",
    "print(\"//Independent features//\")\n",
    "print(X.head())\n",
    "print(\"\\n\\n//Dependent feature//\")\n",
    "print(y.head())"
   ]
  },
  {
   "cell_type": "markdown",
   "metadata": {},
   "source": [
    "## Split the <b>X</b> and <b>y</b> Dataframes for Test and Training\n"
   ]
  },
  {
   "cell_type": "code",
   "execution_count": 15,
   "metadata": {},
   "outputs": [],
   "source": [
    "X_train, X_test, y_train, y_test = train_test_split(X, y, test_size=0.1, random_state=0)"
   ]
  },
  {
   "cell_type": "markdown",
   "metadata": {},
   "source": [
    "### Decision Tree Classifier\n"
   ]
  },
  {
   "cell_type": "code",
   "execution_count": 16,
   "metadata": {},
   "outputs": [
    {
     "name": "stdout",
     "output_type": "stream",
     "text": [
      "\n",
      "//Best parameters//\n",
      "{'criterion': 'entropy', 'max_depth': 4}\n",
      "\n",
      "//Best score//\n",
      "0.774074074074074\n"
     ]
    }
   ],
   "source": [
    "gridparameters_dt = {\"max_depth\": [2, 3, 4, 5], \"criterion\": [\"gini\", \"entropy\"]}\n",
    "gridsearch_dt = GridSearchCV(\n",
    "    DecisionTreeClassifier(), gridparameters_dt, cv=10, scoring=\"accuracy\", n_jobs=-1\n",
    ")\n",
    "gridsearch_dt.fit(X_train, y_train)\n",
    "print(\"\\n//Best parameters//\")\n",
    "print(gridsearch_dt.best_params_)\n",
    "print(\"\\n//Best score//\")\n",
    "print(gridsearch_dt.best_score_)"
   ]
  },
  {
   "cell_type": "code",
   "execution_count": 17,
   "metadata": {},
   "outputs": [],
   "source": [
    "dt = DecisionTreeClassifier(**gridsearch_dt.best_params_)\n",
    "dt.fit(X_train, y_train)\n",
    "y_pred_dt = dt.predict(X_test)"
   ]
  },
  {
   "cell_type": "code",
   "execution_count": 18,
   "metadata": {},
   "outputs": [
    {
     "name": "stdout",
     "output_type": "stream",
     "text": [
      "Confusion Matrix \n",
      " [[15  3]\n",
      " [ 1 12]] \n",
      "\n",
      "Accuracy of Decision Tree Classification : 87.09677419354838 \n",
      "\n",
      "Classification Report \n",
      "               precision    recall  f1-score   support\n",
      "\n",
      "           0       0.94      0.83      0.88        18\n",
      "           1       0.80      0.92      0.86        13\n",
      "\n",
      "    accuracy                           0.87        31\n",
      "   macro avg       0.87      0.88      0.87        31\n",
      "weighted avg       0.88      0.87      0.87        31\n",
      "\n"
     ]
    }
   ],
   "source": [
    "dt_con_matrix = confusion_matrix(y_test, y_pred_dt)\n",
    "dt_acc = accuracy_score(y_test, y_pred_dt)\n",
    "print(\"Confusion Matrix\", \"\\n\", dt_con_matrix, \"\\n\")\n",
    "print(\"Accuracy of Decision Tree Classification :\", dt_acc * 100, \"\\n\")\n",
    "print(\"Classification Report\", \"\\n\", classification_report(y_test, y_pred_dt))"
   ]
  },
  {
   "cell_type": "markdown",
   "metadata": {},
   "source": [
    "### Random Forest Classifier\n"
   ]
  },
  {
   "cell_type": "code",
   "execution_count": 19,
   "metadata": {},
   "outputs": [
    {
     "name": "stdout",
     "output_type": "stream",
     "text": [
      "\n",
      "//Best parameters//\n",
      "{'criterion': 'gini', 'max_depth': 5, 'n_estimators': 50}\n",
      "\n",
      "//Best score//\n",
      "0.8222222222222223\n"
     ]
    }
   ],
   "source": [
    "gridparameters_rf = {\n",
    "    \"n_estimators\": [50, 60, 70, 80, 90, 100],\n",
    "    \"criterion\": [\"gini\", \"entropy\"],\n",
    "    \"max_depth\": [2, 3, 4, 5],\n",
    "}\n",
    "gridsearch_rf = GridSearchCV(\n",
    "    RandomForestClassifier(), gridparameters_rf, cv=10, scoring=\"accuracy\", n_jobs=-1\n",
    ")\n",
    "gridsearch_rf.fit(X_train, y_train)\n",
    "print(\"\\n//Best parameters//\")\n",
    "print(gridsearch_rf.best_params_)\n",
    "print(\"\\n//Best score//\")\n",
    "print(gridsearch_rf.best_score_)"
   ]
  },
  {
   "cell_type": "code",
   "execution_count": 20,
   "metadata": {},
   "outputs": [],
   "source": [
    "rf = RandomForestClassifier(**gridsearch_rf.best_params_)\n",
    "rf.fit(X_train, y_train)\n",
    "y_pred_rf = rf.predict(X_test)"
   ]
  },
  {
   "cell_type": "code",
   "execution_count": 21,
   "metadata": {},
   "outputs": [
    {
     "name": "stdout",
     "output_type": "stream",
     "text": [
      "Confusion Matrix \n",
      " [[11  7]\n",
      " [ 0 13]] \n",
      "\n",
      "Accuracy of Random Forest Classification : 77.41935483870968 \n",
      "\n",
      "Classification Report \n",
      "               precision    recall  f1-score   support\n",
      "\n",
      "           0       1.00      0.61      0.76        18\n",
      "           1       0.65      1.00      0.79        13\n",
      "\n",
      "    accuracy                           0.77        31\n",
      "   macro avg       0.82      0.81      0.77        31\n",
      "weighted avg       0.85      0.77      0.77        31\n",
      "\n"
     ]
    }
   ],
   "source": [
    "rf_con_matrix = confusion_matrix(y_test, y_pred_rf)\n",
    "rf_acc = accuracy_score(y_test, y_pred_rf)\n",
    "print(\"Confusion Matrix\", \"\\n\", rf_con_matrix, \"\\n\")\n",
    "print(\"Accuracy of Random Forest Classification :\", rf_acc * 100, \"\\n\")\n",
    "print(\"Classification Report\", \"\\n\", classification_report(y_test, y_pred_rf))"
   ]
  },
  {
   "cell_type": "markdown",
   "metadata": {},
   "source": [
    "### K-Nearest Neighbors Classifier\n"
   ]
  },
  {
   "cell_type": "code",
   "execution_count": 22,
   "metadata": {},
   "outputs": [
    {
     "name": "stdout",
     "output_type": "stream",
     "text": [
      "\n",
      "//Best parameters//\n",
      "{'n_neighbors': 7}\n",
      "\n",
      "//Best score//\n",
      "0.6518518518518518\n"
     ]
    }
   ],
   "source": [
    "gridparameters_knn = {\"n_neighbors\": [5, 6, 7, 8, 9, 10]}\n",
    "gridsearch_knn = GridSearchCV(\n",
    "    KNeighborsClassifier(), gridparameters_knn, cv=10, scoring=\"accuracy\", n_jobs=-1\n",
    ")\n",
    "gridsearch_knn.fit(X_train, y_train)\n",
    "print(\"\\n//Best parameters//\")\n",
    "print(gridsearch_knn.best_params_)\n",
    "print(\"\\n//Best score//\")\n",
    "print(gridsearch_knn.best_score_)"
   ]
  },
  {
   "cell_type": "code",
   "execution_count": 23,
   "metadata": {},
   "outputs": [],
   "source": [
    "knn = KNeighborsClassifier(**gridsearch_knn.best_params_)\n",
    "knn.fit(X_train, y_train)\n",
    "y_pred_knn = knn.predict(X_test)"
   ]
  },
  {
   "cell_type": "code",
   "execution_count": 24,
   "metadata": {},
   "outputs": [
    {
     "name": "stdout",
     "output_type": "stream",
     "text": [
      "Confusion Matrix \n",
      " [[ 9  9]\n",
      " [ 2 11]] \n",
      "\n",
      "Accuracy of KNN Classification : 64.51612903225806 \n",
      "\n",
      "Classification Report \n",
      "               precision    recall  f1-score   support\n",
      "\n",
      "           0       0.82      0.50      0.62        18\n",
      "           1       0.55      0.85      0.67        13\n",
      "\n",
      "    accuracy                           0.65        31\n",
      "   macro avg       0.68      0.67      0.64        31\n",
      "weighted avg       0.71      0.65      0.64        31\n",
      "\n"
     ]
    }
   ],
   "source": [
    "knn_con_matrix = confusion_matrix(y_test, y_pred_knn)\n",
    "knn_acc = accuracy_score(y_test, y_pred_knn)\n",
    "print(\"Confusion Matrix\", \"\\n\", knn_con_matrix, \"\\n\")\n",
    "print(\"Accuracy of KNN Classification :\", knn_acc * 100, \"\\n\")\n",
    "print(\"Classification Report\", \"\\n\", classification_report(y_test, y_pred_knn))"
   ]
  },
  {
   "cell_type": "markdown",
   "metadata": {},
   "source": [
    "### Support Vector Classifier\n"
   ]
  },
  {
   "cell_type": "code",
   "execution_count": 25,
   "metadata": {},
   "outputs": [
    {
     "name": "stdout",
     "output_type": "stream",
     "text": [
      "\n",
      "//Best parameters//\n",
      "{'C': 0.1, 'kernel': 'linear', 'probability': True}\n",
      "\n",
      "//Best score//\n",
      "0.7925925925925925\n"
     ]
    }
   ],
   "source": [
    "gridparameters_svc = {\n",
    "    \"kernel\": [\"linear\", \"rbf\", \"sigmoid\"],\n",
    "    \"C\": [0.1, 0.3, 0.5, 0.7, 0.9],\n",
    "    \"probability\": [True],\n",
    "}\n",
    "gridsearch_svc = GridSearchCV(\n",
    "    SVC(), gridparameters_svc, cv=10, scoring=\"accuracy\", n_jobs=-1\n",
    ")\n",
    "gridsearch_svc.fit(X_train, y_train)\n",
    "print(\"\\n//Best parameters//\")\n",
    "print(gridsearch_svc.best_params_)\n",
    "print(\"\\n//Best score//\")\n",
    "print(gridsearch_svc.best_score_)"
   ]
  },
  {
   "cell_type": "code",
   "execution_count": 26,
   "metadata": {},
   "outputs": [],
   "source": [
    "svc = SVC(**gridsearch_svc.best_params_)\n",
    "svc.fit(X_train, y_train)\n",
    "y_pred_svc = svc.predict(X_test)"
   ]
  },
  {
   "cell_type": "code",
   "execution_count": 27,
   "metadata": {},
   "outputs": [
    {
     "name": "stdout",
     "output_type": "stream",
     "text": [
      "Confusion Matrix \n",
      " [[13  5]\n",
      " [ 0 13]] \n",
      "\n",
      "Accuracy of SVC Classification : 83.87096774193549 \n",
      "\n",
      "Classification Report \n",
      "               precision    recall  f1-score   support\n",
      "\n",
      "           0       1.00      0.72      0.84        18\n",
      "           1       0.72      1.00      0.84        13\n",
      "\n",
      "    accuracy                           0.84        31\n",
      "   macro avg       0.86      0.86      0.84        31\n",
      "weighted avg       0.88      0.84      0.84        31\n",
      "\n"
     ]
    }
   ],
   "source": [
    "svc_con_matrix = confusion_matrix(y_test, y_pred_svc)\n",
    "svc_acc = accuracy_score(y_test, y_pred_svc)\n",
    "print(\"Confusion Matrix\", \"\\n\", svc_con_matrix, \"\\n\")\n",
    "print(\"Accuracy of SVC Classification :\", svc_acc * 100, \"\\n\")\n",
    "print(\"Classification Report\", \"\\n\", classification_report(y_test, y_pred_svc))"
   ]
  },
  {
   "cell_type": "markdown",
   "metadata": {},
   "source": [
    "### Naive Bayes Classifier\n"
   ]
  },
  {
   "cell_type": "code",
   "execution_count": 28,
   "metadata": {},
   "outputs": [],
   "source": [
    "nb = GaussianNB()\n",
    "nb.fit(X_train, y_train)\n",
    "y_pred_nb = nb.predict(X_test)"
   ]
  },
  {
   "cell_type": "code",
   "execution_count": 29,
   "metadata": {},
   "outputs": [
    {
     "name": "stdout",
     "output_type": "stream",
     "text": [
      "Confusion Matrix \n",
      " [[13  5]\n",
      " [ 0 13]] \n",
      "\n",
      "Accuracy of Naive Bayes Classification : 83.87096774193549 \n",
      "\n",
      "Classification Report \n",
      "               precision    recall  f1-score   support\n",
      "\n",
      "           0       1.00      0.72      0.84        18\n",
      "           1       0.72      1.00      0.84        13\n",
      "\n",
      "    accuracy                           0.84        31\n",
      "   macro avg       0.86      0.86      0.84        31\n",
      "weighted avg       0.88      0.84      0.84        31\n",
      "\n"
     ]
    }
   ],
   "source": [
    "nb_con_matrix = confusion_matrix(y_test, y_pred_nb)\n",
    "nb_acc = accuracy_score(y_test, y_pred_nb)\n",
    "print(\"Confusion Matrix\", \"\\n\", nb_con_matrix, \"\\n\")\n",
    "print(\"Accuracy of Naive Bayes Classification :\", nb_acc * 100, \"\\n\")\n",
    "print(\"Classification Report\", \"\\n\", classification_report(y_test, y_pred_nb))"
   ]
  },
  {
   "cell_type": "markdown",
   "metadata": {},
   "source": [
    "### Logistic Regression Classifier\n"
   ]
  },
  {
   "cell_type": "code",
   "execution_count": 30,
   "metadata": {},
   "outputs": [],
   "source": [
    "lr = LogisticRegression(max_iter=1000)\n",
    "lr.fit(X_train, y_train)\n",
    "y_pred_lr = lr.predict(X_test)"
   ]
  },
  {
   "cell_type": "code",
   "execution_count": 31,
   "metadata": {},
   "outputs": [
    {
     "name": "stdout",
     "output_type": "stream",
     "text": [
      "Confusion Matrix \n",
      " [[13  5]\n",
      " [ 1 12]] \n",
      "\n",
      "Accuracy of Logistic Regression Classification : 80.64516129032258 \n",
      "\n",
      "Classification Report \n",
      "               precision    recall  f1-score   support\n",
      "\n",
      "           0       0.93      0.72      0.81        18\n",
      "           1       0.71      0.92      0.80        13\n",
      "\n",
      "    accuracy                           0.81        31\n",
      "   macro avg       0.82      0.82      0.81        31\n",
      "weighted avg       0.84      0.81      0.81        31\n",
      "\n"
     ]
    }
   ],
   "source": [
    "lr_con_matrix = confusion_matrix(y_test, y_pred_lr)\n",
    "lr_acc = accuracy_score(y_test, y_pred_lr)\n",
    "print(\"Confusion Matrix\", \"\\n\", lr_con_matrix, \"\\n\")\n",
    "print(\"Accuracy of Logistic Regression Classification :\", lr_acc * 100, \"\\n\")\n",
    "print(\"Classification Report\", \"\\n\", classification_report(y_test, y_pred_lr))"
   ]
  },
  {
   "cell_type": "markdown",
   "metadata": {},
   "source": [
    "## Plotting the ROC curve\n"
   ]
  },
  {
   "cell_type": "code",
   "execution_count": 32,
   "metadata": {},
   "outputs": [],
   "source": [
    "y_score_dt = dt.predict_proba(X_test)[:, 1]\n",
    "y_score_rf = rf.predict_proba(X_test)[:, 1]\n",
    "y_score_knn = knn.predict_proba(X_test)[:, 1]\n",
    "y_score_svc = svc.predict_proba(X_test)[:, 1]\n",
    "y_score_nb = nb.predict_proba(X_test)[:, 1]\n",
    "y_score_lr = lr.predict_proba(X_test)[:, 1]\n",
    "fpr_dt, tpr_dt, _ = roc_curve(y_test, y_score_dt)\n",
    "fpr_rf, tpr_rf, _ = roc_curve(y_test, y_score_rf)\n",
    "fpr_knn, tpr_knn, _ = roc_curve(y_test, y_score_knn)\n",
    "fpr_svc, tpr_svc, _ = roc_curve(y_test, y_score_svc)\n",
    "fpr_nb, tpr_nb, _ = roc_curve(y_test, y_score_nb)\n",
    "fpr_lr, tpr_lr, _ = roc_curve(y_test, y_score_lr)\n",
    "roc_auc_dt = auc(fpr_dt, tpr_dt)\n",
    "roc_auc_rf = auc(fpr_rf, tpr_rf)\n",
    "roc_auc_knn = auc(fpr_knn, tpr_knn)\n",
    "roc_auc_svc = auc(fpr_svc, tpr_svc)\n",
    "roc_auc_nb = auc(fpr_nb, tpr_nb)\n",
    "roc_auc_lr = auc(fpr_lr, tpr_lr)"
   ]
  },
  {
   "cell_type": "code",
   "execution_count": 33,
   "metadata": {},
   "outputs": [
    {
     "data": {
      "image/png": "[encoded data removed]",
      "text/plain": [
       "<Figure size 900x900 with 1 Axes>"
      ]
     },
     "metadata": {},
     "output_type": "display_data"
    }
   ],
   "source": [
    "fig, ax = plt.subplots(figsize=(6, 6), dpi=150)\n",
    "plt.style.use(\"dark_background\")\n",
    "RocCurveDisplay(\n",
    "    fpr=fpr_dt,\n",
    "    tpr=tpr_dt,\n",
    "    roc_auc=roc_auc_dt,\n",
    "    estimator_name=\"Decision Tree Classifier\",\n",
    ").plot(ax=ax)\n",
    "RocCurveDisplay(\n",
    "    fpr=fpr_rf,\n",
    "    tpr=tpr_rf,\n",
    "    roc_auc=roc_auc_rf,\n",
    "    estimator_name=\"Random Forest Classifier\",\n",
    ").plot(ax=ax)\n",
    "RocCurveDisplay(\n",
    "    fpr=fpr_knn, tpr=tpr_knn, roc_auc=roc_auc_knn, estimator_name=\"KNN Classifier\"\n",
    ").plot(ax=ax)\n",
    "RocCurveDisplay(\n",
    "    fpr=fpr_svc, tpr=tpr_svc, roc_auc=roc_auc_svc, estimator_name=\"SVC Classifier\"\n",
    ").plot(ax=ax)\n",
    "RocCurveDisplay(\n",
    "    fpr=fpr_nb, tpr=tpr_nb, roc_auc=roc_auc_nb, estimator_name=\"Naive Bayes Classifier\"\n",
    ").plot(ax=ax)\n",
    "RocCurveDisplay(\n",
    "    fpr=fpr_lr,\n",
    "    tpr=tpr_lr,\n",
    "    roc_auc=roc_auc_lr,\n",
    "    estimator_name=\"Logistic Regression Classifier\",\n",
    ").plot(ax=ax)\n",
    "plt.title(\"Receiver Operating Characteristic (ROC) Curve\")\n",
    "plt.plot([0, 1], [0, 1], \"b--\")\n",
    "plt.xlim([0, 1])\n",
    "plt.ylim([0, 1])\n",
    "plt.savefig(\"../media/ROC_curve.png\", bbox_inches=\"tight\")"
   ]
  },
  {
   "cell_type": "markdown",
   "metadata": {},
   "source": [
    "## Model Evaluation\n"
   ]
  },
  {
   "cell_type": "code",
   "execution_count": 34,
   "metadata": {},
   "outputs": [
    {
     "data": {
      "text/html": [
       "<div>\n",
       "<style scoped>\n",
       "    .dataframe tbody tr th:only-of-type {\n",
       "        vertical-align: middle;\n",
       "    }\n",
       "\n",
       "    .dataframe tbody tr th {\n",
       "        vertical-align: top;\n",
       "    }\n",
       "\n",
       "    .dataframe thead th {\n",
       "        text-align: right;\n",
       "    }\n",
       "</style>\n",
       "<table border=\"1\" class=\"dataframe\">\n",
       "  <thead>\n",
       "    <tr style=\"text-align: right;\">\n",
       "      <th></th>\n",
       "      <th>Model</th>\n",
       "      <th>Accuracy</th>\n",
       "    </tr>\n",
       "  </thead>\n",
       "  <tbody>\n",
       "    <tr>\n",
       "      <th>0</th>\n",
       "      <td>Decision Tree</td>\n",
       "      <td>0.870968</td>\n",
       "    </tr>\n",
       "    <tr>\n",
       "      <th>3</th>\n",
       "      <td>SVC</td>\n",
       "      <td>0.838710</td>\n",
       "    </tr>\n",
       "    <tr>\n",
       "      <th>4</th>\n",
       "      <td>Naive Bayes</td>\n",
       "      <td>0.838710</td>\n",
       "    </tr>\n",
       "    <tr>\n",
       "      <th>5</th>\n",
       "      <td>Logistic Regression</td>\n",
       "      <td>0.806452</td>\n",
       "    </tr>\n",
       "    <tr>\n",
       "      <th>1</th>\n",
       "      <td>Random Forest</td>\n",
       "      <td>0.774194</td>\n",
       "    </tr>\n",
       "    <tr>\n",
       "      <th>2</th>\n",
       "      <td>KNN</td>\n",
       "      <td>0.645161</td>\n",
       "    </tr>\n",
       "  </tbody>\n",
       "</table>\n",
       "</div>"
      ],
      "text/plain": [
       "                 Model  Accuracy\n",
       "0        Decision Tree  0.870968\n",
       "3                  SVC  0.838710\n",
       "4          Naive Bayes  0.838710\n",
       "5  Logistic Regression  0.806452\n",
       "1        Random Forest  0.774194\n",
       "2                  KNN  0.645161"
      ]
     },
     "execution_count": 34,
     "metadata": {},
     "output_type": "execute_result"
    }
   ],
   "source": [
    "model_evaluation = pd.DataFrame(columns=[\"Model\", \"Accuracy\"])\n",
    "model_evaluation[\"Model\"] = [\n",
    "    \"Decision Tree\",\n",
    "    \"Random Forest\",\n",
    "    \"KNN\",\n",
    "    \"SVC\",\n",
    "    \"Naive Bayes\",\n",
    "    \"Logistic Regression\",\n",
    "]\n",
    "model_evaluation[\"Accuracy\"] = [dt_acc, rf_acc, knn_acc, svc_acc, nb_acc, lr_acc]\n",
    "model_evaluation.sort_values(by=\"Accuracy\", ascending=False, inplace=True)\n",
    "model_evaluation"
   ]
  },
  {
   "cell_type": "code",
   "execution_count": 35,
   "metadata": {},
   "outputs": [
    {
     "data": {
      "image/png": "[encoded data removed]",
      "text/plain": [
       "<Figure size 1800x900 with 1 Axes>"
      ]
     },
     "metadata": {},
     "output_type": "display_data"
    }
   ],
   "source": [
    "pal = [\"red\", \"blue\", \"green\", \"silver\", \"cyan\", \"violet\"]\n",
    "plt.figure(figsize=(12, 6), dpi=150)\n",
    "plt.style.use(\"dark_background\")\n",
    "plt.bar(model_evaluation[\"Model\"], model_evaluation[\"Accuracy\"], color=pal)\n",
    "plt.savefig(\"../media/accuracy_barplot.png\", bbox_inches=\"tight\")"
   ]
  },
  {
   "cell_type": "markdown",
   "metadata": {},
   "source": [
    "## Saving the best model\n"
   ]
  },
  {
   "cell_type": "code",
   "execution_count": 36,
   "metadata": {},
   "outputs": [
    {
     "data": {
      "text/plain": [
       "['dt_model.joblib']"
      ]
     },
     "execution_count": 36,
     "metadata": {},
     "output_type": "execute_result"
    }
   ],
   "source": [
    "dump(dt, \"dt_model.joblib\")"
   ]
  }
 ],
 "metadata": {
  "kernelspec": {
   "display_name": "Python 3.9.13 64-bit",
   "language": "python",
   "name": "python3"
  },
  "language_info": {
   "codemirror_mode": {
    "name": "ipython",
    "version": 3
   },
   "file_extension": ".py",
   "mimetype": "text/x-python",
   "name": "python",
   "nbconvert_exporter": "python",
   "pygments_lexer": "ipython3",
   "version": "3.11.4"
  },
  "orig_nbformat": 4,
  "vscode": {
   "interpreter": {
    "hash": "aee8b7b246df8f9039afb4144a1f6fd8d2ca17a180786b69acc140d282b71a49"
   }
  }
 },
 "nbformat": 4,
 "nbformat_minor": 2
}
